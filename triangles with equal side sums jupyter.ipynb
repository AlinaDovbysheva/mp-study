{
 "cells": [
  {
   "cell_type": "code",
   "execution_count": 4,
   "metadata": {},
   "outputs": [
    {
     "name": "stdout",
     "output_type": "stream",
     "text": [
      "6 -> 1\n",
      "7 -> 3\n",
      "8 -> 4\n",
      "9 -> 10\n",
      "10 -> 11\n",
      "11 -> 19\n",
      "12 -> 27\n",
      "13 -> 35\n",
      "14 -> 43\n",
      "15 -> 63\n",
      "16 -> 71\n",
      "17 -> 91\n",
      "18 -> 112\n",
      "19 -> 134\n",
      "20 -> 155\n",
      "21 -> 193\n",
      "22 -> 214\n"
     ]
    },
    {
     "name": "stdout",
     "output_type": "stream",
     "text": [
      "23 -> 254\n",
      "24 -> 294\n",
      "25 -> 334\n",
      "26 -> 374\n",
      "27 -> 438\n"
     ]
    },
    {
     "name": "stdout",
     "output_type": "stream",
     "text": [
      "28 -> 478\n",
      "29 -> 542\n",
      "30 -> 607\n"
     ]
    },
    {
     "name": "stdout",
     "output_type": "stream",
     "text": [
      "31 -> 673\n",
      "32 -> 738\n",
      "33 -> 832\n"
     ]
    },
    {
     "name": "stdout",
     "output_type": "stream",
     "text": [
      "34 -> 897\n"
     ]
    },
    {
     "name": "stdout",
     "output_type": "stream",
     "text": [
      "35 -> 993\n",
      "36 -> 1089\n"
     ]
    },
    {
     "name": "stdout",
     "output_type": "stream",
     "text": [
      "37 -> 1185\n",
      "38 -> 1281\n"
     ]
    },
    {
     "name": "stdout",
     "output_type": "stream",
     "text": [
      "39 -> 1413\n"
     ]
    },
    {
     "name": "stdout",
     "output_type": "stream",
     "text": [
      "40 -> 1509\n",
      "41 -> 1641\n"
     ]
    },
    {
     "name": "stdout",
     "output_type": "stream",
     "text": [
      "42 -> 1774\n"
     ]
    },
    {
     "name": "stdout",
     "output_type": "stream",
     "text": [
      "43 -> 1908\n"
     ]
    },
    {
     "name": "stdout",
     "output_type": "stream",
     "text": [
      "44 -> 2041\n",
      "45 -> 2215\n"
     ]
    },
    {
     "name": "stdout",
     "output_type": "stream",
     "text": [
      "46 -> 2348\n"
     ]
    },
    {
     "name": "stdout",
     "output_type": "stream",
     "text": [
      "47 -> 2524\n"
     ]
    },
    {
     "name": "stdout",
     "output_type": "stream",
     "text": [
      "48 -> 2700\n"
     ]
    },
    {
     "name": "stdout",
     "output_type": "stream",
     "text": [
      "49 -> 2876\n"
     ]
    },
    {
     "name": "stdout",
     "output_type": "stream",
     "text": [
      "50 -> 3052\n"
     ]
    },
    {
     "name": "stdout",
     "output_type": "stream",
     "text": [
      "51 -> 3276\n"
     ]
    },
    {
     "name": "stdout",
     "output_type": "stream",
     "text": [
      "52 -> 3452\n"
     ]
    },
    {
     "name": "stdout",
     "output_type": "stream",
     "text": [
      "53 -> 3676\n"
     ]
    },
    {
     "name": "stdout",
     "output_type": "stream",
     "text": [
      "54 -> 3901\n"
     ]
    },
    {
     "name": "stdout",
     "output_type": "stream",
     "text": [
      "55 -> 4127\n"
     ]
    },
    {
     "name": "stdout",
     "output_type": "stream",
     "text": [
      "56 -> 4352\n"
     ]
    },
    {
     "name": "stdout",
     "output_type": "stream",
     "text": [
      "57 -> 4630\n"
     ]
    },
    {
     "name": "stdout",
     "output_type": "stream",
     "text": [
      "58 -> 4855\n"
     ]
    },
    {
     "name": "stdout",
     "output_type": "stream",
     "text": [
      "59 -> 5135\n"
     ]
    },
    {
     "name": "stdout",
     "output_type": "stream",
     "text": [
      "60 -> 5415\n"
     ]
    },
    {
     "name": "stdout",
     "output_type": "stream",
     "text": [
      "61 -> 5695\n"
     ]
    },
    {
     "name": "stdout",
     "output_type": "stream",
     "text": [
      "62 -> 5975\n"
     ]
    },
    {
     "name": "stdout",
     "output_type": "stream",
     "text": [
      "63 -> 6315\n"
     ]
    },
    {
     "name": "stdout",
     "output_type": "stream",
     "text": [
      "64 -> 6595\n"
     ]
    },
    {
     "name": "stdout",
     "output_type": "stream",
     "text": [
      "65 -> 6935\n"
     ]
    },
    {
     "name": "stdout",
     "output_type": "stream",
     "text": [
      "66 -> 7276\n",
      "Calculation took 6.251471042633057 seconds\n"
     ]
    }
   ],
   "source": [
    "top=66;\n",
    "bottom=6; scope=top-bottom+1;\n",
    "figures=Array{Int32}(undef,scope)\n",
    "timestart=time();\n",
    "for side in range(bottom,top,step=1)\n",
    "    figures[side-bottom+1]=0\n",
    "    for i in range(0,floor(side/3),step=1)\n",
    "        for j in range(i+1,floor((side-i)/2),step=1)\n",
    "            for k in range(j+1,side-i-j-1,step=1)\n",
    "                list=[i,side-i-j,j,side-j-k,k,side-k-i]\n",
    "                if count(q->(q==i),list)*count(q->(q==j),list)*count(q->(q==k),list)<2\n",
    "                    figures[side-bottom+1]+=1\n",
    "                end\n",
    "            end\n",
    "            \n",
    "        end\n",
    "    end\n",
    "    println(side,\" -> \",figures[side-bottom+1])\n",
    "end\n",
    "timeend=time();\n",
    "deltatime=timeend-timestart;\n",
    "println(\"Calculation took \",deltatime,\" seconds\");\n",
    "                \n",
    "                          \n"
   ]
  }
 ],
 "metadata": {
  "kernelspec": {
   "display_name": "Julia 1.6.3",
   "language": "julia",
   "name": "julia-1.6"
  },
  "language_info": {
   "file_extension": ".jl",
   "mimetype": "application/julia",
   "name": "julia",
   "version": "1.6.3"
  },
  "orig_nbformat": 4
 },
 "nbformat": 4,
 "nbformat_minor": 2
}
