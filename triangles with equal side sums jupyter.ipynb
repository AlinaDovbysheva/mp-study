{
 "cells": [
  {
   "cell_type": "code",
   "execution_count": 1,
   "metadata": {},
   "outputs": [
    {
     "name": "stdout",
     "output_type": "stream",
     "text": [
      "96 -> 23448\n",
      "Calculation took 0.8676631450653076"
     ]
    },
    {
     "name": "stdout",
     "output_type": "stream",
     "text": [
      " seconds\n"
     ]
    }
   ],
   "source": [
    "#default top<=100 for less than a second vanilla julia computation\n",
    "top=96;\n",
    "bottom=6; scope=top-bottom+1;\n",
    "figures=Array{Int32}(undef,scope)\n",
    "timestart=time();\n",
    "for side in range(bottom,top,step=1)\n",
    "    figures[side-bottom+1]=0\n",
    "    for i in range(0,floor(side/3),step=1)\n",
    "        for j in range(i+1,floor((side-i)/2),step=1)\n",
    "            for k in range(j+1,side-i-j-1,step=1)\n",
    "                #list=[i,side-i-j,j,side-j-k,k,side-k-i]\n",
    "                a=side-i-j\n",
    "                b=side-j-k\n",
    "                c=side-j-i\n",
    "                if a!=i&&a!=j&&a!=k&&b!=i&&b!=j&&b!=k&&c!=i&&c!=j&&c!=k\n",
    "                    figures[side-bottom+1]+=1\n",
    "                end\n",
    "            end\n",
    "            \n",
    "        end\n",
    "    end\n",
    "end\n",
    "println(top,\" -> \",figures[top-bottom+1])\n",
    "timeend=time();\n",
    "deltatime=timeend-timestart;\n",
    "println(\"Calculation took \",deltatime,\" seconds\");\n",
    "                \n",
    "                          \n"
   ]
  }
 ],
 "metadata": {
  "kernelspec": {
   "display_name": "Julia 1.6.3",
   "language": "julia",
   "name": "julia-1.6"
  },
  "language_info": {
   "file_extension": ".jl",
   "mimetype": "application/julia",
   "name": "julia",
   "version": "1.6.3"
  },
  "orig_nbformat": 4
 },
 "nbformat": 4,
 "nbformat_minor": 2
}
