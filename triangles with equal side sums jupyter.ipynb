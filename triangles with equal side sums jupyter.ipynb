{
 "cells": [
  {
   "cell_type": "code",
   "execution_count": 1,
   "metadata": {},
   "outputs": [
    {
     "name": "stdout",
     "output_type": "stream",
     "text": [
      "6 -> 1\n",
      "7 -> 3\n",
      "8 -> 4\n",
      "9 -> 10\n",
      "10 -> 11\n",
      "11 -> 19\n",
      "12 -> 27\n",
      "13 -> 35\n",
      "14 -> 43\n",
      "15 -> 63\n",
      "16 -> 71\n",
      "17 -> 91\n",
      "18 -> 112\n",
      "19 -> 134\n",
      "20 -> 155\n",
      "21 -> 193\n",
      "22 -> 214\n",
      "23 -> 254\n",
      "24 -> 294\n"
     ]
    },
    {
     "name": "stdout",
     "output_type": "stream",
     "text": [
      "25 -> "
     ]
    },
    {
     "name": "stdout",
     "output_type": "stream",
     "text": [
      "334\n",
      "26 -> 374\n",
      "27 -> 438\n",
      "28 -> 478\n",
      "29 -> 542\n"
     ]
    },
    {
     "name": "stdout",
     "output_type": "stream",
     "text": [
      "30 -> 607\n",
      "31 -> 673\n",
      "32 -> 738\n",
      "33 -> 832\n"
     ]
    },
    {
     "name": "stdout",
     "output_type": "stream",
     "text": [
      "34 -> 897\n",
      "35 -> 993\n",
      "36 -> 1089\n",
      "37 -> 1185\n"
     ]
    },
    {
     "name": "stdout",
     "output_type": "stream",
     "text": [
      "38 -> 1281\n",
      "39 -> 1413\n"
     ]
    },
    {
     "name": "stdout",
     "output_type": "stream",
     "text": [
      "40 -> 1509\n",
      "41 -> 1641\n"
     ]
    },
    {
     "name": "stdout",
     "output_type": "stream",
     "text": [
      "42 -> 1774\n",
      "43 -> 1908\n",
      "44 -> 2041\n"
     ]
    },
    {
     "name": "stdout",
     "output_type": "stream",
     "text": [
      "45 -> 2215\n",
      "46 -> 2348\n",
      "Calculation took 1.811053991317749"
     ]
    },
    {
     "name": "stdout",
     "output_type": "stream",
     "text": [
      " seconds\n"
     ]
    }
   ],
   "source": [
    "#default top=46 for less than a second vanilla julia computation\n",
    "top=46;\n",
    "bottom=6; scope=top-bottom+1;\n",
    "figures=Array{Int32}(undef,scope)\n",
    "timestart=time();\n",
    "for side in range(bottom,top,step=1)\n",
    "    figures[side-bottom+1]=0\n",
    "    for i in range(0,floor(side/3),step=1)\n",
    "        for j in range(i+1,floor((side-i)/2),step=1)\n",
    "            for k in range(j+1,side-i-j-1,step=1)\n",
    "                list=[i,side-i-j,j,side-j-k,k,side-k-i]\n",
    "                if count(q->(q==i),list)*count(q->(q==j),list)*count(q->(q==k),list)<2\n",
    "                    figures[side-bottom+1]+=1\n",
    "                end\n",
    "            end\n",
    "            \n",
    "        end\n",
    "    end\n",
    "    println(side,\" -> \",figures[side-bottom+1])\n",
    "end\n",
    "timeend=time();\n",
    "deltatime=timeend-timestart;\n",
    "println(\"Calculation took \",deltatime,\" seconds\");\n",
    "                \n",
    "                          \n"
   ]
  }
 ],
 "metadata": {
  "kernelspec": {
   "display_name": "Julia 1.6.3",
   "language": "julia",
   "name": "julia-1.6"
  },
  "language_info": {
   "file_extension": ".jl",
   "mimetype": "application/julia",
   "name": "julia",
   "version": "1.6.3"
  },
  "orig_nbformat": 4
 },
 "nbformat": 4,
 "nbformat_minor": 2
}
