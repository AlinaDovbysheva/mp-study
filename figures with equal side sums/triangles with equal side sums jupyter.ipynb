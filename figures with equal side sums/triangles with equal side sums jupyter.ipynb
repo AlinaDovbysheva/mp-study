{
  "cells": [
    {
      "cell_type": "code",
      "source": [
        "#default top<=100 for less than a second vanilla julia computation\n",
        "timestart=time();\n",
        "top=9;\n",
        "bottom=6; scope=top-bottom+1;\n",
        "figures=Array{Int32}(undef,scope)\n",
        "corner=0\n",
        "for side in range(bottom,top,step=1)\n",
        "    figures[side-bottom+1]=0\n",
        "    for i in range(0,floor(side/3),step=1)\n",
        "        for j in range(i+1,floor((side-i)/2),step=1)\n",
        "            for k in range(j+1,side-i-j-1,step=1)\n",
        "                #list=[i,side-i-j,j,side-j-k,k,side-k-i]\n",
        "                corner=i+j+k\n",
        "                a=side-i-j\n",
        "                b=side-j-k\n",
        "                c=side-j-i\n",
        "                #if a!=i&&a!=j&&a!=k&&b!=i&&b!=j&&b!=k&&c!=i&&c!=j&&c!=k\n",
        "        if k-i!=side-corner&&k-j!=side-corner&&j-i!=side-corner\n",
        "                    figures[side-bottom+1]+=1\n",
        "          println(i,j,k,a,b,c)\n",
        "                end\n",
        "            end\n",
        "            \n",
        "        end\n",
        "    end\n",
        "end\n",
        "println(top,\" -> \",figures[top-bottom+1])\n",
        "timeend=time();\n",
        "deltatime=timeend-timestart;\n",
        "println(\"Calculation took \",deltatime,\" seconds\");\n",
        "                \n",
        "                          \n"
      ],
      "outputs": [
        {
          "output_type": "stream",
          "name": "stdout",
          "text": [
            "0.01.02.05.03.05.0\n",
            "0.01.03.05.02.05.0\n",
            "0.02.03.04.01.04.0\n",
            "0.01.02.06.04.06.0\n",
            "0.01.04.06.02.06.0\n",
            "0.02.04.05.01.05.0\n",
            "0.01.02.07.05.07.0\n",
            "0.01.03.07.04.07.0\n",
            "0.01.04.07.03.07.0\n",
            "0.01.05.07.02.07.0\n",
            "0.02.05.06.01.06.0\n",
            "0.03.04.05.01.05.0\n",
            "0.01.02.08.06.08.0\n",
            "0.01.03.08.05.08.0\n",
            "0.01.05.08.03.08.0\n",
            "0.01.06.08.02.08.0\n",
            "0.02.03.07.04.07.0\n",
            "0.02.04.07.03.07.0\n",
            "0.02.06.07.01.07.0\n",
            "0.03.04.06.02.06.0\n",
            "0.03.05.06.01.06.0\n",
            "1.02.03.06.04.06.0\n",
            "1.02.04.06.03.06.0\n",
            "1.03.04.05.02.05.0\n",
            "9 -> 12\n",
            "Calculation took 0.09682011604309082 seconds\n"
          ]
        }
      ],
      "execution_count": 13,
      "metadata": {
        "execution": {
          "iopub.status.busy": "2021-11-13T23:22:27.833Z",
          "iopub.execute_input": "2021-11-13T23:22:27.839Z",
          "iopub.status.idle": "2021-11-13T23:22:27.931Z"
        }
      }
    },
    {
      "cell_type": "code",
      "source": [],
      "outputs": [],
      "execution_count": null,
      "metadata": {
        "collapsed": true,
        "jupyter": {
          "source_hidden": false,
          "outputs_hidden": false
        },
        "nteract": {
          "transient": {
            "deleting": false
          }
        }
      }
    }
  ],
  "metadata": {
    "kernelspec": {
      "display_name": "Julia 1.6.3",
      "language": "julia",
      "name": "julia-1.6"
    },
    "language_info": {
      "file_extension": ".jl",
      "name": "julia",
      "mimetype": "application/julia",
      "version": "1.6.3"
    },
    "orig_nbformat": 4,
    "nteract": {
      "version": "0.28.0"
    },
    "gist_id": "e68f48d24db679351e9b7b68057ed8da"
  },
  "nbformat": 4,
  "nbformat_minor": 2
}