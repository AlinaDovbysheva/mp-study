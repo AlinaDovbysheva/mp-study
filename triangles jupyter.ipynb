{
 "cells": [
  {
   "cell_type": "code",
   "execution_count": 1,
   "metadata": {},
   "outputs": [
    {
     "name": "stdout",
     "output_type": "stream",
     "text": [
      "6 -> 1\n",
      "7 -> 3\n",
      "8 -> 4\n",
      "9 -> 10\n",
      "10 -> 11\n",
      "11 -> 19\n",
      "12 -> 27\n"
     ]
    },
    {
     "name": "stdout",
     "output_type": "stream",
     "text": [
      "13 -> "
     ]
    },
    {
     "name": "stdout",
     "output_type": "stream",
     "text": [
      "35\n",
      "14 -> 43\n",
      "15 -> 63\n",
      "16 -> 71\n",
      "17 -> 91\n",
      "18 -> 112\n",
      "19 -> 134\n",
      "20 -> 155\n",
      "21 -> 193\n",
      "22 -> 214\n",
      "23 -> "
     ]
    },
    {
     "name": "stdout",
     "output_type": "stream",
     "text": [
      "254\n",
      "24 -> 294\n",
      "25 -> 334\n",
      "26 -> 374\n"
     ]
    },
    {
     "name": "stdout",
     "output_type": "stream",
     "text": [
      "27 -> 438\n",
      "28 -> 478\n",
      "29 -> 542\n"
     ]
    },
    {
     "name": "stdout",
     "output_type": "stream",
     "text": [
      "30 -> 607\n",
      "31 -> 673\n"
     ]
    },
    {
     "name": "stdout",
     "output_type": "stream",
     "text": [
      "32 -> 738\n",
      "33 -> 832\n"
     ]
    },
    {
     "name": "stdout",
     "output_type": "stream",
     "text": [
      "34 -> 897\n",
      "35 -> 993\n"
     ]
    },
    {
     "name": "stdout",
     "output_type": "stream",
     "text": [
      "36 -> 1089\n"
     ]
    },
    {
     "name": "stdout",
     "output_type": "stream",
     "text": [
      "Calculation took 3.1886351108551025"
     ]
    },
    {
     "name": "stdout",
     "output_type": "stream",
     "text": [
      " seconds\n"
     ]
    }
   ],
   "source": [
    "top=36;\n",
    "bottom=6; scope=top-bottom+1;\n",
    "figures=Array{Int32}(undef,scope)\n",
    "timestart=time();\n",
    "for side in range(bottom,top,step=1)\n",
    "    figures[side-bottom+1]=0\n",
    "    for i in range(0,floor(side/3),step=1)\n",
    "        for j in range(i+1,floor((side-i)/2),step=1)\n",
    "            for k in range(j+1,side-i-j-1,step=1)\n",
    "                list=[i,side-i-j,j,side-j-k,k,side-k-i]\n",
    "                #if count(q->(i-1<q<i+1),list)*count(r->(j-1<r<j+1),list)*count(s->(k-1<s<k+1),list)<2\n",
    "                if count(q->(q==i),list)*count(q->(q==j),list)*count(q->(q==k),list)<2\n",
    "                    figures[side-bottom+1]+=1\n",
    "                end\n",
    "            end\n",
    "            \n",
    "        end\n",
    "    end\n",
    "    println(side,\" -> \",figures[side-bottom+1])\n",
    "end\n",
    "timeend=time();\n",
    "deltatime=timeend-timestart;\n",
    "println(\"Calculation took \",deltatime,\" seconds\");\n",
    "                \n",
    "                          \n"
   ]
  }
 ],
 "metadata": {
  "kernelspec": {
   "display_name": "Julia 1.6.3",
   "language": "julia",
   "name": "julia-1.6"
  },
  "language_info": {
   "file_extension": ".jl",
   "mimetype": "application/julia",
   "name": "julia",
   "version": "1.6.3"
  },
  "orig_nbformat": 4
 },
 "nbformat": 4,
 "nbformat_minor": 2
}
